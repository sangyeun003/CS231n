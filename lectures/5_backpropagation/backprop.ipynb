{
 "cells": [
  {
   "cell_type": "markdown",
   "metadata": {},
   "source": [
    "Chain rule"
   ]
  },
  {
   "cell_type": "code",
   "execution_count": 3,
   "metadata": {},
   "outputs": [
    {
     "name": "stdout",
     "output_type": "stream",
     "text": [
      "dfdq = -4\n",
      "dfdx = -4.0, dfdy = -4.0, dfdz = 3\n"
     ]
    }
   ],
   "source": [
    "# inputs\n",
    "x = -2\n",
    "y = 5\n",
    "z = -4\n",
    "\n",
    "# forward\n",
    "q = x + y\n",
    "f = q * z\n",
    "\n",
    "# backward\n",
    "dfdz = q\n",
    "dfdq = z\n",
    "dqdx = 1.0\n",
    "dqdy = 1.0\n",
    "\n",
    "print(f\"dfdq = {dfdq}\")\n",
    "\n",
    "# backpropagation\n",
    "dfdx = dfdq * dqdx\n",
    "dfdy = dfdq * dqdy\n",
    "\n",
    "print(f\"dfdx = {dfdx}, dfdy = {dfdy}, dfdz = {dfdz}\")"
   ]
  },
  {
   "cell_type": "markdown",
   "metadata": {},
   "source": [
    "Sigmoid"
   ]
  },
  {
   "cell_type": "code",
   "execution_count": 4,
   "metadata": {},
   "outputs": [
    {
     "name": "stdout",
     "output_type": "stream",
     "text": [
      "dfdx: [0.3932238664829637, -0.5898357997244456], dfdw: [-0.19661193324148185, -0.3932238664829637, 0.19661193324148185]\n"
     ]
    }
   ],
   "source": [
    "import math\n",
    "\n",
    "w = [2, -3, -3]\n",
    "x = [-1, -2]\n",
    "\n",
    "dot = w[0]*x[0] + w[1]*x[1] + w[2]\n",
    "f = 1.0 / (1 + math.exp(-dot))\t# sigmoid\n",
    "\n",
    "ddot = (1 - f) * f\n",
    "dx = [w[0] * ddot, w[1] * ddot]\n",
    "dw = [x[0] * ddot, x[1] * ddot, 1.0 * ddot]\n",
    "\n",
    "print(f\"dfdx: {dx}, dfdw: {dw}\")"
   ]
  },
  {
   "cell_type": "code",
   "execution_count": 8,
   "metadata": {},
   "outputs": [
    {
     "name": "stdout",
     "output_type": "stream",
     "text": [
      "sigx: 0.9525741268224334, sigy: 0.01798620996209156, x+y: -1, (x+y)^2: 1, num: 3.0179862099620918, den: 1.9525741268224333, invden: 0.5121444488396316\n",
      "f: 1.5456448841066441\n"
     ]
    }
   ],
   "source": [
    "import math\n",
    "\n",
    "x = 3\n",
    "y = -4\n",
    "\n",
    "# forward\n",
    "sigy = 1.0 / (1 + math.exp(-y))\n",
    "num = x + sigy\t# 분자\n",
    "sigx = 1.0 / (1 + math.exp(-x))\n",
    "xpy = x + y\n",
    "xpysqr = xpy ** 2\n",
    "den = sigx + xpysqr\t# 분모\n",
    "\n",
    "invden = 1.0 / den\t# 분모 역수화\n",
    "f = num * invden\n",
    "\n",
    "print(f\"sigx: {sigx}, sigy: {sigy}, x+y: {xpy}, (x+y)^2: {xpysqr}, num: {num}, den: {den}, invden: {invden}\")\n",
    "print(f\"f: {f}\")"
   ]
  },
  {
   "cell_type": "code",
   "execution_count": 12,
   "metadata": {},
   "outputs": [
    {
     "name": "stdout",
     "output_type": "stream",
     "text": [
      "dfdnum: 0.5121444488396316, dfdinvden: 3.0179862099620918\n",
      "dfdden: -0.7915934472725935\n",
      "dfdsigx: -0.7915934472725935, dfdxpysqr: -0.7915934472725935\n",
      "dfdxpy: 1.583186894545187\n",
      "dfdx: 1.583186894545187, dfdy: 1.583186894545187\n",
      "dfdx: -0.03576154781265359\n",
      "dfdx: 0.5121444488396316, dfdsigy: 0.5121444488396316\n",
      "dfdy: 0.009045856938622317\n",
      "[final] dfdx: 2.0595697955721652, dfdy: 1.5922327514838093\n"
     ]
    }
   ],
   "source": [
    "# backprop f = num * invden\n",
    "dnum = invden\n",
    "dinvden = num\n",
    "print(f\"dfdnum: {dnum}, dfdinvden: {dinvden}\")\n",
    "\n",
    "# backprop invden = 1 / den\n",
    "dden = (-1.0 / (den ** 2)) * dinvden\n",
    "print(f\"dfdden: {dden}\")\n",
    "\n",
    "# backprop den = sigx + xpysqr\n",
    "dsigx = 1.0 * dden\n",
    "dxpysqr = 1.0 * dden\n",
    "print(f\"dfdsigx: {dsigx}, dfdxpysqr: {dxpysqr}\")\n",
    "\n",
    "# backprop xpysqr = xpy ** 2\n",
    "dxpy = (2 * xpy) * dxpysqr\n",
    "print(f\"dfdxpy: {dxpy}\")\n",
    "\n",
    "# backprop xpy = x + y\n",
    "dx = 1 * dxpy\n",
    "dy = 1 * dxpy\n",
    "print(f\"dfdx: {1 * dxpy}, dfdy: {1 * dxpy}\")\n",
    "\n",
    "# backprop sig(x)\n",
    "dx += (sigx * (1 - sigx)) * dsigx\n",
    "print(f\"dfdx: {(sigx * (1 - sigx)) * dsigx}\")\n",
    "\n",
    "# backprop num = x + sigy\n",
    "dx += 1 * dnum\n",
    "dsigy = 1 * dnum\n",
    "print(f\"dfdx: {1 * dnum}, dfdsigy: {dsigy}\")\n",
    "\n",
    "# backprop sig(y)\n",
    "dy += (sigy * (1 - sigy)) * dsigy\n",
    "print(f\"dfdy: {(sigy * (1 - sigy)) * dsigy}\")\n",
    "\n",
    "print(f\"[final] dfdx: {dx}, dfdy: {dy}\")"
   ]
  },
  {
   "cell_type": "code",
   "execution_count": 16,
   "metadata": {},
   "outputs": [
    {
     "name": "stdout",
     "output_type": "stream",
     "text": [
      "W: [[-0.1429865   0.17558202]\n",
      " [ 1.38290122 -1.30285315]\n",
      " [ 0.33725225  0.95069444]\n",
      " [ 0.99845258  0.6948907 ]]\n",
      "X: [[-0.8292188   0.6376559   0.20898543]\n",
      " [-0.42855198 -0.05425221 -0.29552626]]\n",
      "D: [[ 0.04332107 -0.1007019  -0.08177119]\n",
      " [-0.58838739  0.95249778  0.67403352]\n",
      " [-0.68707789  0.16347362 -0.21047437]\n",
      " [-1.12573243  0.59896982  0.00330359]]\n",
      "dLdD: [[0.94238681 0.24986601 0.54802526]\n",
      " [0.82881446 0.02856052 0.26148397]\n",
      " [0.27709616 0.04088727 0.53231392]\n",
      " [0.77266089 0.36214939 0.1633659 ]]\n",
      "dLdW: [[-0.50758702 -0.57937337]\n",
      " [-0.61441041 -0.43401493]\n",
      " [-0.09245548 -0.27828107]\n",
      " [-0.37563715 -0.39905167]]\n",
      "dLdX: [[ 1.8763365   0.37914722  0.62588346]\n",
      " [-0.11400872  0.29718736  0.3751375 ]]\n"
     ]
    }
   ],
   "source": [
    "import numpy as np\n",
    "\n",
    "# forward\n",
    "W = np.random.randn(4, 2)\n",
    "X = np.random.randn(2, 3)\n",
    "\n",
    "D = W.dot(X)\t# [4, 3]\n",
    "print(f\"W: {W}\")\n",
    "print(f\"X: {X}\")\n",
    "print(f\"D: {D}\")\n",
    "\n",
    "# backpropagation\n",
    "# dD를 전달 받았다고 가정\n",
    "dD = np.random.rand(*D.shape)\t# [4, 3]\n",
    "print(f\"dLdD: {dD}\")\n",
    "\n",
    "dW = dD.dot(X.T)\t# X의 transpose를 곱함. [4, 3] * [3, 2]\n",
    "dX = W.T.dot(dD)\t# W의 transpose를 곱함. [2, 4] *[4, 3]\n",
    "print(f\"dLdW: {dW}\")\n",
    "print(f\"dLdX: {dX}\")"
   ]
  }
 ],
 "metadata": {
  "kernelspec": {
   "display_name": "cs231n",
   "language": "python",
   "name": "python3"
  },
  "language_info": {
   "codemirror_mode": {
    "name": "ipython",
    "version": 3
   },
   "file_extension": ".py",
   "mimetype": "text/x-python",
   "name": "python",
   "nbconvert_exporter": "python",
   "pygments_lexer": "ipython3",
   "version": "3.7.12"
  }
 },
 "nbformat": 4,
 "nbformat_minor": 2
}
