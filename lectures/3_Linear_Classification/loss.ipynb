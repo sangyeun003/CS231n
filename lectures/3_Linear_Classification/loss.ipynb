{
 "cells": [
  {
   "cell_type": "code",
   "execution_count": null,
   "metadata": {},
   "outputs": [],
   "source": [
    "import numpy as np"
   ]
  },
  {
   "cell_type": "code",
   "execution_count": null,
   "metadata": {},
   "outputs": [],
   "source": [
    "def L_i(x, y, W):\n",
    "\t\"\"\"\n",
    "\tUnvectorized version. single example (x,y)에 대해 Multiclass SVM Loss 계산\n",
    "\t- x : image를 나타내는 column vector (3073 x 1 in CIFAR-10)\n",
    "\t- y : 정답 class의 index (0~9 in CIFAR-10)\n",
    "\t- W : weight matrix (10 x 3073 in CIFAR-10)\n",
    "\t\"\"\"\n",
    "\tdelta = 1.0\n",
    "\tscores = W.dot(x)\n",
    "\tcorrect_class_score = scores[y]\n",
    "\tD = W.shape[0]\t# class의 개수. 10 in CIFAR-10\n",
    "\tloss_i = 0.0\n",
    "\tfor j in range(D):\n",
    "\t\tif j == y:\n",
    "\t\t\tcontinue\n",
    "\t\tloss_i += max(0, scores[j] - correct_class_score + delta)\n",
    "\treturn loss_i"
   ]
  },
  {
   "cell_type": "code",
   "execution_count": null,
   "metadata": {},
   "outputs": [],
   "source": [
    "def L_i_vectorized(x, y, W):\n",
    "\t\"\"\"\n",
    "\t위의 L_i보다 더 빠른 half-vectorized 구현.\n",
    "\thalf-vectorized는 one example에 대해 반복문 없이 구현된 것.\n",
    "\t하지만, 모든 example에 대해서 L_i를 구해야 하기 때문에 전체적으로 반복문 1개는 아직 필요\n",
    "\t\"\"\"\n",
    "\tdelta = 1.0\n",
    "\tscores = W.dot(x)\n",
    "\tmargins = np.maximum(0, scores - scores[y] + delta)\n",
    "\tmargins[y] = 0\n",
    "\tloss_i = np.sum(margins)\n",
    "\treturn loss_i"
   ]
  },
  {
   "cell_type": "code",
   "execution_count": null,
   "metadata": {},
   "outputs": [],
   "source": [
    "def L(X, y, W):\n",
    "\t\"\"\"\n",
    "\tfully-vectorized 구현\n",
    "\t- X : 모든 training examples에 대한 column vectors 모음 (3073 x 50000 in CIFAR-10)\n",
    "\t- Y : 모든 training examples에 대한 정답 index 배열 (50000-D array in CIFAR-10)\n",
    "\t- W : weights (10 x 3073 in CIFAR-10)\n",
    "\t\"\"\"\n",
    "\t# 반복문 없이 구현\n",
    "\t# assignment1 관련\n",
    "\tdelta = 1.0\n",
    "\tscores = W.dot(X)\n"
   ]
  },
  {
   "cell_type": "markdown",
   "metadata": {},
   "source": [
    "Softmax 함수 구현"
   ]
  },
  {
   "cell_type": "code",
   "execution_count": 9,
   "metadata": {},
   "outputs": [
    {
     "name": "stdout",
     "output_type": "stream",
     "text": [
      "p: [ 0.  0. nan]\n",
      "f: [-666 -333    0]\n",
      "p: [5.75274406e-290 2.39848787e-145 1.00000000e+000]\n",
      "sum(p): 1.0\n"
     ]
    },
    {
     "name": "stderr",
     "output_type": "stream",
     "text": [
      "/home/sangyeun/anaconda3/envs/cs231n/lib/python3.7/site-packages/ipykernel_launcher.py:4: RuntimeWarning: overflow encountered in exp\n",
      "  after removing the cwd from sys.path.\n",
      "/home/sangyeun/anaconda3/envs/cs231n/lib/python3.7/site-packages/ipykernel_launcher.py:4: RuntimeWarning: invalid value encountered in true_divide\n",
      "  after removing the cwd from sys.path.\n"
     ]
    }
   ],
   "source": [
    "import numpy as np\n",
    "\n",
    "f = np.array([123, 456, 789])\n",
    "p = np.exp(f) / np.sum(np.exp(f))\n",
    "print(f\"p: {p}\")\n",
    "\n",
    "# Overflow 방지\n",
    "f -= np.max(f)\n",
    "print(f\"f: {f}\")\n",
    "p = np.exp(f) / np.sum(np.exp(f))\n",
    "print(f\"p: {p}\")\n",
    "print(f\"sum(p): {sum(p)}\")"
   ]
  }
 ],
 "metadata": {
  "kernelspec": {
   "display_name": "cs231n",
   "language": "python",
   "name": "python3"
  },
  "language_info": {
   "codemirror_mode": {
    "name": "ipython",
    "version": 3
   },
   "file_extension": ".py",
   "mimetype": "text/x-python",
   "name": "python",
   "nbconvert_exporter": "python",
   "pygments_lexer": "ipython3",
   "version": "3.7.12"
  }
 },
 "nbformat": 4,
 "nbformat_minor": 2
}
